{
 "cells": [
  {
   "cell_type": "code",
   "execution_count": null,
   "id": "64c70246",
   "metadata": {},
   "outputs": [
    {
     "name": "stdout",
     "output_type": "stream",
     "text": [
      "((50000, 32, 32, 3), (50000, 1))\n",
      "((10000, 32, 32, 3), (10000, 1))\n"
     ]
    },
    {
     "name": "stderr",
     "output_type": "stream",
     "text": [
      "WARNING:absl:Compiled the loaded model, but the compiled metrics have yet to be built. `model.compile_metrics` will be empty until you train or evaluate the model.\n"
     ]
    },
    {
     "name": "stdout",
     "output_type": "stream",
     "text": [
      "0 vgg16 (None, 1, 1, 512)\n",
      "1 flatten (None, 512)\n",
      "2 dense (None, 4000)\n",
      "3 dense_1 (None, 2000)\n",
      "4 dropout (None, 2000)\n",
      "5 dense_2 (None, 1000)\n",
      "6 dropout_1 (None, 1000)\n",
      "7 dense_3 (None, 500)\n",
      "8 dropout_2 (None, 500)\n",
      "9 dense_4 (None, 10)\n",
      "\u001b[1m313/313\u001b[0m \u001b[32m━━━━━━━━━━━━━━━━━━━━\u001b[0m\u001b[37m\u001b[0m \u001b[1m47s\u001b[0m 150ms/step\n",
      "\u001b[1m1563/1563\u001b[0m \u001b[32m━━━━━━━━━━━━━━━━━━━━\u001b[0m\u001b[37m\u001b[0m \u001b[1m247s\u001b[0m 158ms/step\n"
     ]
    }
   ],
   "source": [
    "# =============================================================================\n",
    "# Authors: Deepthi Kuttichira and Pubudu Sanjeewani Thihagoda Gamage\n",
    "# Date: 20-08-2024\n",
    "# Title: A Novel Non-Iterative Training Method for CNN Classifiers Using Gram-Schmidt Process\n",
    "# License: MIT License\n",
    "# =============================================================================\n",
    "\n",
    "# Import necessary libraries\n",
    "import numpy as np\n",
    "from tensorflow.keras.models import load_model \n",
    "from tensorflow.keras.models import Model\n",
    "from tensorflow.keras.datasets import cifar10\n",
    "from sklearn.metrics import accuracy_score\n",
    "import scipy.io\n",
    "from sklearn.model_selection import train_test_split\n",
    "from keras.utils import to_categorical\n",
    "\n",
    "# Set layer index for feature extraction\n",
    "l=5 # Layer number from which features will be extracted\n",
    "\n",
    "# Load CIFAR-10 dataset\n",
    "(x_train, y_train), (x_test, y_test) = cifar10.load_data()\n",
    "\n",
    "# Print dataset shapes for sanity check\n",
    "print((x_train.shape,y_train.shape))\n",
    "print((x_test.shape,y_test.shape))\n",
    "\n",
    "# One-hot encode labels\n",
    "y_train=to_categorical(y_train)\n",
    "y_test=to_categorical(y_test)\n",
    "\n",
    "# Normalize pixel values to [0,1]\n",
    "x_train= (x_train.astype('float32'))/255\n",
    "x_test= (x_test.astype('float32'))/255\n",
    "\n",
    "# Load pretrained model (VGG16 in this case)\n",
    "model=load_model(\"cifar10_vgg16.h5\")\n",
    "\n",
    "# Print summary of model layers and output shapes\n",
    "for i in range(len(model.layers)):\n",
    "\tlayer = model.layers[i]\n",
    "\tprint(i, layer.name, layer.output.shape)\n",
    "\n",
    "# Create a new model that outputs intermediate layer features\n",
    "new_model = Model(inputs=model.inputs, outputs=model.layers[l].output)\n",
    "\n",
    "# Extract features for train and test sets\n",
    "test_features=new_model.predict(x_test)\n",
    "train_features=new_model.predict(x_train)\n",
    "\n",
    "# Save extracted features to .npy files (Change the file paths as needed)\n",
    "np.save(r'C:\\Users\\sanje\\Desktop\\Griffith\\code\\pretrained\\cifar10test_2000relu_vgg16.npy',test_features) \n",
    "np.save(r'C:\\Users\\sanje\\Desktop\\Griffith\\code\\pretrained\\cifar10train_2000relu_vgg16.npy',train_features)\n",
    "\n",
    "# Check number of non-zero columns in the extracted features\n",
    "l=np.sum(train_features,axis=0)\n",
    "c=np.count_nonzero(l) "
   ]
  }
 ],
 "metadata": {
  "kernelspec": {
   "display_name": "Python 3 (ipykernel)",
   "language": "python",
   "name": "python3"
  },
  "language_info": {
   "codemirror_mode": {
    "name": "ipython",
    "version": 3
   },
   "file_extension": ".py",
   "mimetype": "text/x-python",
   "name": "python",
   "nbconvert_exporter": "python",
   "pygments_lexer": "ipython3",
   "version": "3.11.5"
  }
 },
 "nbformat": 4,
 "nbformat_minor": 5
}
