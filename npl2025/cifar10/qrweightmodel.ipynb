{
 "cells": [
  {
   "cell_type": "code",
   "execution_count": null,
   "id": "29a35f99",
   "metadata": {},
   "outputs": [
    {
     "name": "stdout",
     "output_type": "stream",
     "text": [
      "Train Loss: 1.5874621868133545, Train Accuracy: 0.9148200154304504\n",
      "Test Loss: 1.6281975507736206, Test Accuracy: 0.8654000163078308\n"
     ]
    }
   ],
   "source": [
    "# =============================================================================\n",
    "# Authors: Deepthi Kuttichira and Pubudu Sanjeewani Thihagoda Gamage\n",
    "# Date: 20-08-2024\n",
    "# Title: A Novel Non-Iterative Training Method for CNN Classifiers Using Gram-Schmidt Process\n",
    "# License: MIT License\n",
    "# =============================================================================\n",
    "\n",
    "# Import necessary libraries\n",
    "from sklearn.metrics import accuracy_score\n",
    "import numpy as np\n",
    "from tensorflow.keras.models import Sequential\n",
    "from tensorflow.keras.utils import to_categorical\n",
    "from tensorflow.keras.layers import Dense\n",
    "from tensorflow.keras.datasets import cifar10\n",
    "from sklearn.metrics import precision_score\n",
    "from sklearn.model_selection import train_test_split\n",
    "from keras.utils import to_categorical\n",
    "\n",
    "# Load CIFAR-10 dataset\n",
    "(x_train,y_train),(x_test,y_test)=cifar10.load_data()\n",
    "y_train_check=y_train\n",
    "y_test_check=y_test\n",
    "\n",
    "# Load extracted feature vectors and clean zero-only columns (Change the file path to the actual location on the system)\n",
    "x_train=np.load(r'C:\\Users\\sanje\\Desktop\\Griffith\\code\\pretrained\\cifar10train_2000relu_vgg16.npy')\n",
    "l=np.sum(x_train,axis=0) \n",
    "index=np.where(l==0)[0]\n",
    "x_train=np.delete(x_train,index,axis=1)\n",
    "\n",
    "x_test=np.load(r'C:\\Users\\sanje\\Desktop\\Griffith\\code\\pretrained\\cifar10test_2000relu_vgg16.npy')\n",
    "x_test=np.delete(x_test,index,axis=1)\n",
    "\n",
    "# Load precomputed weights (from QR decomposition)\n",
    "weights=np.load(\"qrweightcifar10_2000relu_vgg16.npy\")\n",
    "\n",
    "# One-hot encode the labels\n",
    "y_train=to_categorical(y_train)\n",
    "y_test=to_categorical(y_test)\n",
    "\n",
    "# Define a simple classifier model\n",
    "optimizer='adam'\n",
    "input_dim = 988 # Update this if the input feature dimension changes e.g., 991 for VGG19, 1000 for ResNet50, 1000 for DenseNet121, and 999 for DenseNet169 \n",
    "output_dim = 10 \n",
    "\n",
    "def classification_model():\n",
    "    model = Sequential()\n",
    "    model.add(Dense(output_dim, input_dim=input_dim, activation='softmax'))\n",
    "    model.compile(loss='categorical_crossentropy', optimizer=optimizer, metrics=['accuracy'])\n",
    "    return model\n",
    "\n",
    "# Initialize and set weights of the classifier\n",
    "keras_model = classification_model()\n",
    "l=[]\n",
    "x=weights.transpose() # Weights matrix\n",
    "y=np.array([0]*10)    # Bias vector\n",
    "l.append(x)\n",
    "l.append(y)\n",
    "keras_model.layers[0].set_weights(l)\n",
    "\n",
    "# Evaluate model on training and test sets\n",
    "train_loss, train_accuracy = keras_model.evaluate(x_train, y_train, verbose=0)\n",
    "test_loss, test_accuracy = keras_model.evaluate(x_test, y_test, verbose=0)\n",
    "\n",
    "# Print evaluation results\n",
    "print(f'Train Loss: {train_loss}, Train Accuracy: {train_accuracy}')\n",
    "print(f'Test Loss: {test_loss}, Test Accuracy: {test_accuracy}')"
   ]
  }
 ],
 "metadata": {
  "kernelspec": {
   "display_name": "Python 3 (ipykernel)",
   "language": "python",
   "name": "python3"
  },
  "language_info": {
   "codemirror_mode": {
    "name": "ipython",
    "version": 3
   },
   "file_extension": ".py",
   "mimetype": "text/x-python",
   "name": "python",
   "nbconvert_exporter": "python",
   "pygments_lexer": "ipython3",
   "version": "3.11.5"
  }
 },
 "nbformat": 4,
 "nbformat_minor": 5
}
