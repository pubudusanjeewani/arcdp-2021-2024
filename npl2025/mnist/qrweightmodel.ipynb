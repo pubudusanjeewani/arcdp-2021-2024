{
 "cells": [
  {
   "cell_type": "code",
   "execution_count": null,
   "id": "7d0844b0",
   "metadata": {},
   "outputs": [
    {
     "name": "stdout",
     "output_type": "stream",
     "text": [
      "(10000, 946)\n",
      "\u001b[1m313/313\u001b[0m \u001b[32m━━━━━━━━━━━━━━━━━━━━\u001b[0m\u001b[37m\u001b[0m \u001b[1m1s\u001b[0m 2ms/step\n",
      "\u001b[1m1875/1875\u001b[0m \u001b[32m━━━━━━━━━━━━━━━━━━━━\u001b[0m\u001b[37m\u001b[0m \u001b[1m4s\u001b[0m 2ms/step\n",
      "Train Loss: 1.4645800590515137, Train Accuracy: 0.9979666471481323\n",
      "Test Loss: 1.4684962034225464, Test Accuracy: 0.9940999746322632\n"
     ]
    }
   ],
   "source": [
    "# =============================================================================\n",
    "# Authors: Deepthi Kuttichira and Pubudu Sanjeewani Thihagoda Gamage\n",
    "# Date: 20-08-2024\n",
    "# Title: A Novel Non-Iterative Training Method for CNN Classifiers Using Gram-Schmidt Process\n",
    "# License: MIT License\n",
    "# =============================================================================\n",
    "\n",
    "# Import necessary libraries\n",
    "from sklearn.metrics import accuracy_score\n",
    "import numpy as np\n",
    "from tensorflow.keras.models import Sequential\n",
    "from tensorflow.keras.utils import to_categorical\n",
    "from tensorflow.keras.layers import Dense\n",
    "from tensorflow.keras.datasets import mnist\n",
    "from sklearn.metrics import precision_score\n",
    "\n",
    "# Load MNIST dataset and extract labels for later evaluation\n",
    "(x_train,y_train),(x_test,y_test)=mnist.load_data()\n",
    "y_test_check=y_test\n",
    "y_train_check=y_train\n",
    "\n",
    "# Load precomputed feature vectors for training and testing (Change the file path to the actual location on the system)\n",
    "# Remove columns with all-zero values to reduce redundancy\n",
    "x_train=np.load(r'C:\\Users\\sanje\\Desktop\\Griffith\\code\\pretrained-MNIST\\mnisttrain_2000relu2.npy')\n",
    "l=np.sum(x_train,axis=0) \n",
    "index=np.where(l==0)[0]\n",
    "x_train=np.delete(x_train,index,axis=1)\n",
    "x_test=np.load(r'C:\\Users\\sanje\\Desktop\\Griffith\\code\\pretrained-MNIST\\mnisttest_2000relu2.npy')\n",
    "x_test = np.delete(x_test,index,axis=1)\n",
    "print(x_test.shape)\n",
    "\n",
    "# Load precomputed QR weights\n",
    "weights=np.load(\"qrweightmnist_2000relu2.npy\")\n",
    "\n",
    "# One-hot encode the labels for training/testing\n",
    "y_train=to_categorical(y_train)\n",
    "y_test=to_categorical(y_test)\n",
    "\n",
    "# Define and compile a simple classifier model\n",
    "optimizer='adam'\n",
    "input_dim = 946 # Update this if the input feature dimension changes e.g., 958 for VGG19, 256 for ResNet50, 941 for DeneseNet121, and  934 for DenseNet169\n",
    "output_dim = 10 \n",
    "\n",
    "def classification_model():\n",
    "    model = Sequential()\n",
    "    model.add(Dense(output_dim, input_dim=input_dim, activation='softmax'))\n",
    "    model.compile(loss='categorical_crossentropy', optimizer=optimizer, metrics=['accuracy'])\n",
    "    return model\n",
    "\n",
    "# Initialize model and set pretrained weights and biases\n",
    "keras_model = classification_model()\n",
    "\n",
    "l=[]\n",
    "x=weights.transpose() # Weight matrix (input_dim x output_dim)\n",
    "y=np.array([0]*10)    # Bias vector (set to zeros)\n",
    "l.append(x)\n",
    "l.append(y)\n",
    "keras_model.layers[0].set_weights(l)\n",
    "\n",
    "# Predict class labels and compute precision scores\n",
    "prediction_class_test = keras_model.predict(x_test).argmax(axis=-1)\n",
    "accuracy_test = precision_score(prediction_class_test, y_test_check, average='micro')\n",
    "\n",
    "prediction_class_train = keras_model.predict(x_train).argmax(axis=-1)\n",
    "accuracy_train = precision_score(prediction_class_train, y_train_check, average='micro')\n",
    "\n",
    "# Evaluate and print training and testing loss and accuracy\n",
    "train_loss, train_accuracy = keras_model.evaluate(x_train, y_train, verbose=0)\n",
    "test_loss, test_accuracy = keras_model.evaluate(x_test, y_test, verbose=0)\n",
    "\n",
    "print(f'Train Loss: {train_loss}, Train Accuracy: {train_accuracy}')\n",
    "print(f'Test Loss: {test_loss}, Test Accuracy: {test_accuracy}')"
   ]
  }
 ],
 "metadata": {
  "kernelspec": {
   "display_name": "Python 3 (ipykernel)",
   "language": "python",
   "name": "python3"
  },
  "language_info": {
   "codemirror_mode": {
    "name": "ipython",
    "version": 3
   },
   "file_extension": ".py",
   "mimetype": "text/x-python",
   "name": "python",
   "nbconvert_exporter": "python",
   "pygments_lexer": "ipython3",
   "version": "3.11.5"
  }
 },
 "nbformat": 4,
 "nbformat_minor": 5
}
