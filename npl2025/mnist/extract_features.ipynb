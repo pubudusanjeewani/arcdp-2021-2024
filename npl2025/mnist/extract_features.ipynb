{
 "cells": [
  {
   "cell_type": "code",
   "execution_count": null,
   "id": "64c70246",
   "metadata": {},
   "outputs": [
    {
     "name": "stderr",
     "output_type": "stream",
     "text": [
      "WARNING:absl:Compiled the loaded model, but the compiled metrics have yet to be built. `model.compile_metrics` will be empty until you train or evaluate the model.\n"
     ]
    },
    {
     "name": "stdout",
     "output_type": "stream",
     "text": [
      "0 vgg16 (None, 1, 1, 512)\n",
      "1 flatten (None, 512)\n",
      "2 dense (None, 4000)\n",
      "3 dense_1 (None, 2000)\n",
      "4 dropout (None, 2000)\n",
      "5 dense_2 (None, 1000)\n",
      "6 dropout_1 (None, 1000)\n",
      "7 dense_3 (None, 500)\n",
      "8 dropout_2 (None, 500)\n",
      "9 dense_4 (None, 10)\n",
      "\u001b[1m313/313\u001b[0m \u001b[32m━━━━━━━━━━━━━━━━━━━━\u001b[0m\u001b[37m\u001b[0m \u001b[1m43s\u001b[0m 136ms/step\n",
      "\u001b[1m1875/1875\u001b[0m \u001b[32m━━━━━━━━━━━━━━━━━━━━\u001b[0m\u001b[37m\u001b[0m \u001b[1m299s\u001b[0m 159ms/step\n"
     ]
    }
   ],
   "source": [
    "# =============================================================================\n",
    "# Author: Deepthi Kuttichiara and Pubudu Sanjeewani Thihagoda Gamage\n",
    "# Date: 20-08-2024\n",
    "# Title: A Novel Non-Iterative Training Method for CNN Classifiers Using Gram-Schmidt Process\n",
    "# License: MIT License\n",
    "# =============================================================================\n",
    "\n",
    "# Import necessary libraries for model loading, image processing, evaluation, and data handling\n",
    "import numpy as np\n",
    "from tensorflow.keras.models import load_model \n",
    "from tensorflow.keras.models import Model\n",
    "from tensorflow.keras.datasets import cifar10\n",
    "from tensorflow.keras.datasets import mnist\n",
    "from sklearn.metrics import accuracy_score\n",
    "import scipy.io\n",
    "from tensorflow.keras.utils import to_categorical\n",
    "from tensorflow.keras.preprocessing.image import load_img, img_to_array, array_to_img\n",
    "\n",
    "# Set the index of the layer from which features will be extracted\n",
    "l=5 \n",
    "class_num = 10\n",
    "\n",
    "# Load MNIST dataset (handwritten digit images)\n",
    "(x_train, y_train), (x_test, y_test) = mnist.load_data()\n",
    "\n",
    "# Reshape grayscale images to have a single channel\n",
    "x_train = x_train.reshape((x_train.shape[0], 28, 28, 1))\n",
    "x_test = x_test.reshape((x_test.shape[0], 28, 28, 1))\n",
    "\n",
    "# One-hot encode class labels for training and testing\n",
    "y_train = to_categorical(y_train, class_num)\n",
    "y_test = to_categorical(y_test, class_num)\n",
    "\n",
    "# Define a function to resize images to 32x32 and convert to 3-channel RGB format\n",
    "def change_size(image):\n",
    "    img = array_to_img(image, scale=False) # Convert array to PIL Image\n",
    "    img = img.resize((32, 32))             # Resize image\n",
    "    img = img.convert(mode='RGB')          # Convert to RGB\n",
    "    arr = img_to_array(img)                # Convert back to array\n",
    "    return arr.astype(np.float64)\n",
    "\n",
    "# Resize and convert all training and test images\n",
    "x_train = [change_size(img) for img in x_train]\n",
    "x_train = np.array(x_train)\n",
    "x_train.shape\n",
    "\n",
    "x_test = [change_size(img) for img in x_test]\n",
    "x_test = np.array(x_test)\n",
    "x_test.shape\n",
    "\n",
    "# Normalize pixel values to [0, 1]\n",
    "x_train= (x_train.astype('float32'))/255\n",
    "x_test= (x_test.astype('float32'))/255\n",
    "\n",
    "# Load the pre-trained VGG16-based model for MNIST\n",
    "model=load_model(\"mnist_vgg16.h5\")\n",
    "\n",
    "# Print all layer indices, names, and output shapes for inspection\n",
    "for i in range(len(model.layers)):\n",
    "\tlayer = model.layers[i]\n",
    "\tprint(i, layer.name, layer.output.shape)\n",
    "\n",
    "# Create a new model to extract features from the specified intermediate layer\n",
    "new_model = Model(inputs=model.inputs, outputs=model.layers[l].output)\n",
    "\n",
    "# Generate feature representations for test and train datasets\n",
    "test_features=new_model.predict(x_test)\n",
    "train_features=new_model.predict(x_train)\n",
    "\n",
    "# Save extracted features to .npy files\n",
    "np.save(r'C:\\Users\\sanje\\Desktop\\Griffith\\code\\pretrained-MNIST\\mnisttest_2000relu2.npy',test_features)\n",
    "np.save(r'C:\\Users\\sanje\\Desktop\\Griffith\\code\\pretrained-MNIST\\mnisttrain_2000relu2.npy',train_features)\n",
    "\n",
    "# Analyze the sparsity (number of non-zero elements) in the extracted features\n",
    "l=np.sum(train_features,axis=0)\n",
    "c=np.count_nonzero(l) "
   ]
  }
 ],
 "metadata": {
  "kernelspec": {
   "display_name": "Python 3 (ipykernel)",
   "language": "python",
   "name": "python3"
  },
  "language_info": {
   "codemirror_mode": {
    "name": "ipython",
    "version": 3
   },
   "file_extension": ".py",
   "mimetype": "text/x-python",
   "name": "python",
   "nbconvert_exporter": "python",
   "pygments_lexer": "ipython3",
   "version": "3.11.5"
  }
 },
 "nbformat": 4,
 "nbformat_minor": 5
}
